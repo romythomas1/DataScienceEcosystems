{
 "cells": [
  {
   "cell_type": "markdown",
   "id": "00ae20d9-48ad-4c80-aa45-6dfd09d4aa11",
   "metadata": {
    "tags": []
   },
   "source": [
    "# Data Science Tools and Ecosystems"
   ]
  },
  {
   "cell_type": "markdown",
   "id": "7c9060f0-4a66-4755-953c-dbd84578112e",
   "metadata": {},
   "source": [
    "In this Notebook, Data Science Tools and Ecosystem are summarized."
   ]
  },
  {
   "cell_type": "markdown",
   "id": "1504099e-a9e3-44ab-823e-38950a2acf7c",
   "metadata": {},
   "source": [
    "__Objectives:__\n",
    "+ List popular languages used by Data Scientists.\n",
    "+ List the commonly used libraries by Data Scientists.\n",
    "+ Evaluate arithmetic expressions in Python.\n"
   ]
  },
  {
   "cell_type": "markdown",
   "id": "cb7b064b-1902-43d7-bb2d-d8c74246c130",
   "metadata": {},
   "source": [
    "Some of the popular languages that Data Scientists use are:"
   ]
  },
  {
   "cell_type": "markdown",
   "id": "82f12493-9e6f-4b9a-8653-9b37248dd7f1",
   "metadata": {
    "tags": []
   },
   "source": [
    "1. Python\n",
    "2. SQL\n",
    "3. R\n",
    "4. C/C++\n"
   ]
  },
  {
   "cell_type": "markdown",
   "id": "c3a05133-e449-421c-9212-34d21e179b6e",
   "metadata": {},
   "source": [
    "Some of the commonly used libraries used by Data Scientists include:"
   ]
  },
  {
   "cell_type": "markdown",
   "id": "56576dcc-afdc-4b9d-b840-840f1a27214d",
   "metadata": {},
   "source": [
    "1. TensorFlow\n",
    "2. NumPy\n",
    "3. SciPy\n",
    "4. Pandas\n"
   ]
  },
  {
   "cell_type": "markdown",
   "id": "a5d6052f-b75f-48d2-8388-e7f53ad39138",
   "metadata": {},
   "source": [
    "|Data Science tools|\n",
    "|------------------|\n",
    "|RStudio|\n",
    "|Apache Spark|\n",
    "|Hadoop|\n",
    "|TensorFlow|"
   ]
  },
  {
   "cell_type": "markdown",
   "id": "51527712-28de-4883-99f4-4a4a9ba27529",
   "metadata": {},
   "source": [
    "### Below are a few examples of evaluating arithmetic expressions in Python"
   ]
  },
  {
   "cell_type": "code",
   "execution_count": 1,
   "id": "eb8ef80a-bdc6-4fd7-8ebf-c17c625ee26a",
   "metadata": {
    "tags": []
   },
   "outputs": [
    {
     "data": {
      "text/plain": [
       "17"
      ]
     },
     "execution_count": 1,
     "metadata": {},
     "output_type": "execute_result"
    }
   ],
   "source": [
    "# This a simple arithmetic expression to mutiply then add integers\n",
    "(3*4)+5\n"
   ]
  },
  {
   "cell_type": "code",
   "execution_count": 3,
   "id": "2c033ee5-1cc1-4fcc-bfff-ef816d1418e2",
   "metadata": {
    "tags": []
   },
   "outputs": [
    {
     "data": {
      "text/plain": [
       "3.3333333333333335"
      ]
     },
     "execution_count": 3,
     "metadata": {},
     "output_type": "execute_result"
    }
   ],
   "source": [
    "# This will convert 200 mins to hours by dividing by 60\n",
    "200/60\n"
   ]
  },
  {
   "cell_type": "markdown",
   "id": "a47c7c52-48a2-4e2b-b12d-62508ba458e2",
   "metadata": {},
   "source": [
    "## Author\n",
    "Romy Thomas"
   ]
  },
  {
   "cell_type": "code",
   "execution_count": null,
   "id": "5496b92e-dc12-4627-861b-7375d364bdbe",
   "metadata": {},
   "outputs": [],
   "source": []
  }
 ],
 "metadata": {
  "kernelspec": {
   "display_name": "Python",
   "language": "python",
   "name": "conda-env-python-py"
  },
  "language_info": {
   "codemirror_mode": {
    "name": "ipython",
    "version": 3
   },
   "file_extension": ".py",
   "mimetype": "text/x-python",
   "name": "python",
   "nbconvert_exporter": "python",
   "pygments_lexer": "ipython3",
   "version": "3.7.12"
  }
 },
 "nbformat": 4,
 "nbformat_minor": 5
}
